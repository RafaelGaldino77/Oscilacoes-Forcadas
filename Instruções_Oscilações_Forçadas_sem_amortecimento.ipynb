{
  "nbformat": 4,
  "nbformat_minor": 0,
  "metadata": {
    "colab": {
      "provenance": []
    },
    "kernelspec": {
      "name": "python3",
      "display_name": "Python 3"
    },
    "language_info": {
      "name": "python"
    }
  },
  "cells": [
    {
      "cell_type": "markdown",
      "source": [
        "Centro Universitário FEI - Física II\n",
        "\n",
        "Criado por Rafael Galdino Dias em 19/01/2022\n",
        "\n",
        "Esse programa tem como principal objetivo auxiliar os alunos em seus estudos de\n",
        "Oscilações Forçadas dentro do modelo sem amortecimento através da interpretação\n",
        "gráfica do resultado simulado. Assim o aluno pode visualizar como os parâmetros\n",
        "podem interferir e caracterizar esse movimento nas mais diversas situações.\n",
        "\n",
        "Observação: para simular este programa, copie e cole todas as linhas de código\n",
        "no Google Colab, onde ele foi testado e desenvolvido pelo autor."
      ],
      "metadata": {
        "id": "VBs-uvENavOC"
      }
    },
    {
      "cell_type": "code",
      "source": [
        "import numpy as np\n",
        "from scipy.integrate import odeint\n",
        "import matplotlib.pyplot as plt\n",
        "\n",
        "print('           Entre com os dados da 1a simulação           ')\n",
        "print('--------------------------------------------------------')\n",
        "m1=float(input(\"Insira o valor da massa em kg:\"))\n",
        "k1=float(input(\"Insira o valor da constante elástica em N/m:\"))\n",
        "Fo=float(input(\"Insira o valor da intensidade da força externa em N:\"))\n",
        "w1=float(input(\"Insira o valor da frequência angular externa em rad/s:\"))\n",
        "fi1=float(input(\"Insira o valor da fase inicial em rad:\"))\n",
        "print('--------------------------------------------------------')"
      ],
      "metadata": {
        "id": "n56VSfsRa0Fd"
      },
      "execution_count": null,
      "outputs": []
    },
    {
      "cell_type": "markdown",
      "source": [
        "Equação diferencial que calcula a posição dentro desse modelo. Os termos dx/dt \n",
        "na EDO foram substituidos por valores numéricos de um vetor para facilitar o \n",
        "cálculo dentro do programa. A equação que iremos utilizar é:"
      ],
      "metadata": {
        "id": "vvnfs5Qda4sv"
      }
    },
    {
      "cell_type": "code",
      "source": [
        "def dx_dt(x, t):\n",
        "    return [m1*x[1], -k1*x[0] - Fo*np.cos(w1*t+fi1)]"
      ],
      "metadata": {
        "id": "Juue9SXNa-rl"
      },
      "execution_count": null,
      "outputs": []
    },
    {
      "cell_type": "markdown",
      "source": [
        "Definição de um parâmetro de entrada para a posição inicial"
      ],
      "metadata": {
        "id": "0zsosoOXbBgz"
      }
    },
    {
      "cell_type": "code",
      "source": [
        "pos=float(input(\"Insira a posição inicial em m:\"))"
      ],
      "metadata": {
        "id": "4NymvQOnbS43"
      },
      "execution_count": null,
      "outputs": []
    },
    {
      "cell_type": "markdown",
      "source": [
        "Definindo o valor da posição inicial para a simulação no gráfico através da \n",
        "aplicação de uma variável x0, onde o movimento deve começar em t=0s."
      ],
      "metadata": {
        "id": "AMe2jvmBbWWj"
      }
    },
    {
      "cell_type": "code",
      "source": [
        "x0 = [pos, 0]"
      ],
      "metadata": {
        "id": "LPegTHW6bZO_"
      },
      "execution_count": null,
      "outputs": []
    },
    {
      "cell_type": "markdown",
      "source": [
        "Aqui você pode definir a escala do eixo horizontal do gráfico. Dentro dos \n",
        "parentêses o primeiro valor é o início da sua escala e o segundo valor é o fim\n",
        "dela. O terceiro valor é o número de pontos usados para plotar a função."
      ],
      "metadata": {
        "id": "7lD9uv0MbwkD"
      }
    },
    {
      "cell_type": "code",
      "source": [
        "ts = np.linspace(0, 10, 200)"
      ],
      "metadata": {
        "id": "MTrXwNu5bz5F"
      },
      "execution_count": null,
      "outputs": []
    },
    {
      "cell_type": "markdown",
      "source": [
        "Chamada do comando odeint para calcular a solução da EDO. Dentro dos parênteses\n",
        "temos a função principal e as variáveis que forma substituidas pelo vetor que \n",
        "representam o termo dx/dt da equação original. "
      ],
      "metadata": {
        "id": "DyaZ-h0Hb1dS"
      }
    },
    {
      "cell_type": "code",
      "source": [
        "xs = odeint(dx_dt, x0, ts)"
      ],
      "metadata": {
        "id": "KOvrzLWzb3_b"
      },
      "execution_count": null,
      "outputs": []
    },
    {
      "cell_type": "markdown",
      "source": [
        "Definição da escala vertical do gráfico para a 1a simulação com ínicio em x=0, \n",
        "visto que o eixo y é dependente do valor da posição já definido anteriormente."
      ],
      "metadata": {
        "id": "APgbr0nTb52J"
      }
    },
    {
      "cell_type": "code",
      "source": [
        "ys = xs[:,0]"
      ],
      "metadata": {
        "id": "wOrBKRYKb9tc"
      },
      "execution_count": null,
      "outputs": []
    },
    {
      "cell_type": "markdown",
      "source": [
        "Aqui você pode alterar o nome do eixo horizontal do gráfico"
      ],
      "metadata": {
        "id": "JBo-SDyTb_SN"
      }
    },
    {
      "cell_type": "code",
      "source": [
        "plt.xlabel(\"t(s)\")"
      ],
      "metadata": {
        "id": "cpGN-tV8cCN6"
      },
      "execution_count": null,
      "outputs": []
    },
    {
      "cell_type": "markdown",
      "source": [
        "Aqui você pode alterar o nome do eixo vertical do gráfico"
      ],
      "metadata": {
        "id": "S5dFzKtEcEQI"
      }
    },
    {
      "cell_type": "code",
      "source": [
        "plt.ylabel(\"x(m)\")"
      ],
      "metadata": {
        "id": "aBr7V8ZycKKT"
      },
      "execution_count": null,
      "outputs": []
    },
    {
      "cell_type": "markdown",
      "source": [
        "Aqui você pode alterar o título do gráfico"
      ],
      "metadata": {
        "id": "uhLB9zCucLmE"
      }
    },
    {
      "cell_type": "code",
      "source": [
        "plt.title(\"Oscilações Forçadas\")"
      ],
      "metadata": {
        "id": "tNvfcYUCcPCj"
      },
      "execution_count": null,
      "outputs": []
    },
    {
      "cell_type": "markdown",
      "source": [
        "Aqui você pode desativar o grid do gráfico digitando False no lugar de True"
      ],
      "metadata": {
        "id": "E0rvGKqjcRQq"
      }
    },
    {
      "cell_type": "code",
      "source": [
        "plt.grid(True)"
      ],
      "metadata": {
        "id": "_K6ekUF-cUVg"
      },
      "execution_count": null,
      "outputs": []
    },
    {
      "cell_type": "markdown",
      "source": [
        "Aqui você pode definir os parâmetros de plotagem do gráfico e ajustar estilos \n",
        "de linha diferentes para a função. Dentro dos parentêses o primeiro valor é a \n",
        "definição do eixo x do gráfico e o segundo valor é o eixo y dele. O terceiro e \n",
        "o quarto valor são referentes à cor da linha e sua espessura, respectivamente.\n",
        "O quinto item diz respeito à aplicação da legenda do gráfico onde se encontram \n",
        "as informações da massa, constante elástica e ângulo de fase da simulação."
      ],
      "metadata": {
        "id": "n5hDN8_DcWcE"
      }
    },
    {
      "cell_type": "code",
      "source": [
        "plt.plot(ts,ys,color='red',linewidth=1.5,label='m=%.1fkg, k=%.1fN/m' %(m1,k1));"
      ],
      "metadata": {
        "id": "vuE9Xvm5chEd"
      },
      "execution_count": null,
      "outputs": []
    },
    {
      "cell_type": "markdown",
      "source": [
        "Aqui você pode definir a visualização da legenda do gráfico e ajustá-la para a\n",
        "posição que você desejar. Para ver outras opções de posicionamento procure na \n",
        "internet por pyplot.legend"
      ],
      "metadata": {
        "id": "MHFpiPWHcjPc"
      }
    },
    {
      "cell_type": "code",
      "source": [
        "plt.legend(loc=4)"
      ],
      "metadata": {
        "id": "21ypt4KpcmNy"
      },
      "execution_count": null,
      "outputs": []
    },
    {
      "cell_type": "markdown",
      "source": [
        "Habilitação da visualização do gráfico"
      ],
      "metadata": {
        "id": "NHvNAWLAcogc"
      }
    },
    {
      "cell_type": "code",
      "source": [
        "plt.show()"
      ],
      "metadata": {
        "id": "OEFUrMIgcrAq"
      },
      "execution_count": null,
      "outputs": []
    }
  ]
}